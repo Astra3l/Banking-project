{
  "nbformat": 4,
  "nbformat_minor": 0,
  "metadata": {
    "colab": {
      "provenance": [],
      "authorship_tag": "ABX9TyNYcUc2xL4lyk4wUFbpOGcK",
      "include_colab_link": true
    },
    "kernelspec": {
      "name": "python3",
      "display_name": "Python 3"
    },
    "language_info": {
      "name": "python"
    }
  },
  "cells": [
    {
      "cell_type": "markdown",
      "metadata": {
        "id": "view-in-github",
        "colab_type": "text"
      },
      "source": [
        "<a href=\"https://colab.research.google.com/github/Astra3l/Banking-project/blob/main/myways_Python_and_OpenCV_.ipynb\" target=\"_parent\"><img src=\"https://colab.research.google.com/assets/colab-badge.svg\" alt=\"Open In Colab\"/></a>"
      ]
    },
    {
      "cell_type": "code",
      "execution_count": 1,
      "metadata": {
        "colab": {
          "base_uri": "https://localhost:8080/"
        },
        "id": "rctP7KRAr2dX",
        "outputId": "2fda9030-090d-41e4-dc3a-3c676564ff05"
      },
      "outputs": [
        {
          "output_type": "stream",
          "name": "stdout",
          "text": [
            "Requirement already satisfied: opencv-python in /usr/local/lib/python3.10/dist-packages (4.8.0.76)\n",
            "Requirement already satisfied: numpy in /usr/local/lib/python3.10/dist-packages (1.23.5)\n",
            "Requirement already satisfied: matplotlib in /usr/local/lib/python3.10/dist-packages (3.7.1)\n",
            "Requirement already satisfied: contourpy>=1.0.1 in /usr/local/lib/python3.10/dist-packages (from matplotlib) (1.2.0)\n",
            "Requirement already satisfied: cycler>=0.10 in /usr/local/lib/python3.10/dist-packages (from matplotlib) (0.12.1)\n",
            "Requirement already satisfied: fonttools>=4.22.0 in /usr/local/lib/python3.10/dist-packages (from matplotlib) (4.47.2)\n",
            "Requirement already satisfied: kiwisolver>=1.0.1 in /usr/local/lib/python3.10/dist-packages (from matplotlib) (1.4.5)\n",
            "Requirement already satisfied: packaging>=20.0 in /usr/local/lib/python3.10/dist-packages (from matplotlib) (23.2)\n",
            "Requirement already satisfied: pillow>=6.2.0 in /usr/local/lib/python3.10/dist-packages (from matplotlib) (9.4.0)\n",
            "Requirement already satisfied: pyparsing>=2.3.1 in /usr/local/lib/python3.10/dist-packages (from matplotlib) (3.1.1)\n",
            "Requirement already satisfied: python-dateutil>=2.7 in /usr/local/lib/python3.10/dist-packages (from matplotlib) (2.8.2)\n",
            "Requirement already satisfied: six>=1.5 in /usr/local/lib/python3.10/dist-packages (from python-dateutil>=2.7->matplotlib) (1.16.0)\n"
          ]
        }
      ],
      "source": [
        "!pip install opencv-python numpy matplotlib\n"
      ]
    },
    {
      "cell_type": "code",
      "source": [
        "!git clone https://github.com/rahul2002m/datasets.git\n",
        "!mv datasets/handwritten_dataset.zip .\n",
        "!unzip handwritten_dataset.zip\n",
        "\n"
      ],
      "metadata": {
        "colab": {
          "base_uri": "https://localhost:8080/"
        },
        "id": "bdrR0ZNdsHea",
        "outputId": "24b88e5e-a73a-4577-f486-febce132870a"
      },
      "execution_count": 2,
      "outputs": [
        {
          "output_type": "stream",
          "name": "stdout",
          "text": [
            "Cloning into 'datasets'...\n",
            "remote: Enumerating objects: 428905, done.\u001b[K\n",
            "remote: Counting objects: 100% (15397/15397), done.\u001b[K\n",
            "remote: Compressing objects: 100% (15396/15396), done.\u001b[K\n",
            "remote: Total 428905 (delta 1), reused 15397 (delta 1), pack-reused 413508\u001b[K\n",
            "Receiving objects: 100% (428905/428905), 3.17 GiB | 46.27 MiB/s, done.\n",
            "Resolving deltas: 100% (1216/1216), done.\n",
            "Updating files: 100% (429162/429162), done.\n",
            "mv: cannot stat 'datasets/handwritten_dataset.zip': No such file or directory\n",
            "unzip:  cannot find or open handwritten_dataset.zip, handwritten_dataset.zip.zip or handwritten_dataset.zip.ZIP.\n"
          ]
        }
      ]
    },
    {
      "cell_type": "code",
      "source": [
        "import cv2\n",
        "import os\n",
        "import numpy as np\n",
        "import matplotlib.pyplot as plt\n",
        "\n",
        "dataset_path = \"handwritten_dataset\"\n",
        "images = []\n",
        "labels = []\n",
        "\n",
        "if os.path.exists(dataset_path):\n",
        "    for folder_name in os.listdir(dataset_path):\n",
        "        folder_path = os.path.join(dataset_path, folder_name)\n",
        "        for filename in os.listdir(folder_path):\n",
        "            img_path = os.path.join(folder_path, filename)\n",
        "            img = cv2.imread(img_path, cv2.IMREAD_GRAYSCALE)\n",
        "            img = cv2.resize(img, (28, 28))  # Resize the image to a standard size\n",
        "            images.append(img)\n",
        "            labels.append(ord(folder_name) - ord('A') + 1)  # Use ASCII values for labels and correct the offset\n",
        "\n",
        "images = np.array(images)\n",
        "labels = np.array(labels)"
      ],
      "metadata": {
        "id": "L9ODV04itJIH"
      },
      "execution_count": 7,
      "outputs": []
    },
    {
      "cell_type": "code",
      "source": [
        "images = np.random.rand(10, 28, 28)\n",
        "labels = np.random.randint(0, 10, size=10)"
      ],
      "metadata": {
        "id": "O2aN-3yttiDJ"
      },
      "execution_count": 9,
      "outputs": []
    },
    {
      "cell_type": "code",
      "source": [
        "from sklearn.model_selection import train_test_split\n",
        "from keras.models import Sequential\n",
        "from keras.layers import Conv2D, MaxPooling2D, Flatten, Dense\n",
        "\n",
        "# Split the data into training and testing sets\n",
        "X_train, X_test, y_train, y_test = train_test_split(images, labels, test_size=0.2, random_state=42)\n",
        "\n",
        "# Normalize pixel values to be between 0 and 1\n",
        "X_train = X_train / 255.0\n",
        "X_test = X_test / 255.0\n",
        "\n",
        "# Build a simple CNN model\n",
        "model = Sequential()\n",
        "model.add(Conv2D(32, (3, 3), activation='relu', input_shape=(28, 28, 1)))\n",
        "model.add(MaxPooling2D((2, 2)))\n",
        "model.add(Flatten())\n",
        "model.add(Dense(26, activation='softmax'))\n",
        "\n",
        "model.compile(optimizer='adam', loss='sparse_categorical_crossentropy', metrics=['accuracy'])\n",
        "\n",
        "# Train the model\n",
        "model.fit(X_train.reshape(-1, 28, 28, 1), y_train, epochs=5, validation_data=(X_test.reshape(-1, 28, 28, 1), y_test))\n"
      ],
      "metadata": {
        "colab": {
          "base_uri": "https://localhost:8080/"
        },
        "id": "NzSAhSXutmiH",
        "outputId": "5cb0ac1d-8cd0-455d-ff9e-f48c308a572f"
      },
      "execution_count": 10,
      "outputs": [
        {
          "output_type": "stream",
          "name": "stdout",
          "text": [
            "Epoch 1/5\n",
            "1/1 [==============================] - 1s 832ms/step - loss: 3.2586 - accuracy: 0.0000e+00 - val_loss: 3.2572 - val_accuracy: 0.0000e+00\n",
            "Epoch 2/5\n",
            "1/1 [==============================] - 0s 28ms/step - loss: 3.2536 - accuracy: 0.2500 - val_loss: 3.2549 - val_accuracy: 0.0000e+00\n",
            "Epoch 3/5\n",
            "1/1 [==============================] - 0s 28ms/step - loss: 3.2451 - accuracy: 0.3750 - val_loss: 3.2508 - val_accuracy: 0.0000e+00\n",
            "Epoch 4/5\n",
            "1/1 [==============================] - 0s 26ms/step - loss: 3.2319 - accuracy: 0.3750 - val_loss: 3.2449 - val_accuracy: 0.0000e+00\n",
            "Epoch 5/5\n",
            "1/1 [==============================] - 0s 28ms/step - loss: 3.2134 - accuracy: 0.3750 - val_loss: 3.2372 - val_accuracy: 0.0000e+00\n"
          ]
        },
        {
          "output_type": "execute_result",
          "data": {
            "text/plain": [
              "<keras.src.callbacks.History at 0x79dd1002b670>"
            ]
          },
          "metadata": {},
          "execution_count": 10
        }
      ]
    },
    {
      "cell_type": "code",
      "source": [
        "test_loss, test_acc = model.evaluate(X_test.reshape(-1, 28, 28, 1), y_test, verbose=2)\n",
        "print(f'Test accuracy: {test_acc}')\n"
      ],
      "metadata": {
        "colab": {
          "base_uri": "https://localhost:8080/"
        },
        "id": "DdZRX8HLtrXG",
        "outputId": "6dc51c45-2ee8-4b99-df12-2781d6b34fba"
      },
      "execution_count": 11,
      "outputs": [
        {
          "output_type": "stream",
          "name": "stdout",
          "text": [
            "1/1 - 0s - loss: 3.2372 - accuracy: 0.0000e+00 - 16ms/epoch - 16ms/step\n",
            "Test accuracy: 0.0\n"
          ]
        }
      ]
    }
  ]
}